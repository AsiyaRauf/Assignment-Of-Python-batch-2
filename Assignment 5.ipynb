{
 "cells": [
  {
   "cell_type": "markdown",
   "metadata": {},
   "source": [
    "# Q1.Write a Python function to calculate the factorial of a number (a non-negative integer)."
   ]
  },
  {
   "cell_type": "code",
   "execution_count": 1,
   "metadata": {},
   "outputs": [
    {
     "name": "stdout",
     "output_type": "stream",
     "text": [
      "Enter a number6\n",
      "The factorial of 6 is 720\n"
     ]
    }
   ],
   "source": [
    "def factorial_fun(num):\n",
    "    factorial=1 \n",
    "    if num < 0:\n",
    "        print(\"Sorry, factorial does not exist for negative numbers\")\n",
    "    elif num == 0:\n",
    "        print(\"The factorial of 0 is 1\")\n",
    "    else:\n",
    "        for i in range(1,num + 1):\n",
    "            factorial = factorial*i\n",
    "        print(\"The factorial of\",num,\"is\",factorial)\n",
    "\n",
    "a=int(input(\"Enter a number\"))  \n",
    "factorial_fun(a)"
   ]
  },
  {
   "cell_type": "markdown",
   "metadata": {},
   "source": [
    "# Q2.Write a Python function that accepts a string and calculate the number of uppercase letters and lower case letters."
   ]
  },
  {
   "cell_type": "code",
   "execution_count": 2,
   "metadata": {},
   "outputs": [
    {
     "name": "stdout",
     "output_type": "stream",
     "text": [
      "Enter a nameAizaz\n",
      "A :is upper case letter\n",
      "i :is lower case letter\n",
      "z :is lower case letter\n",
      "a :is lower case letter\n",
      "z :is lower case letter\n",
      "Total no of uppercase is:1\n",
      "Total no of lowercase is:4\n"
     ]
    }
   ],
   "source": [
    "def letter_fun(l):\n",
    "    upper=0\n",
    "    lower=0\n",
    "    for alpha in l:\n",
    "        if alpha.isupper():\n",
    "            upper+=1\n",
    "            print(str(alpha)+\" :is upper case letter\")\n",
    "        elif alpha.islower():\n",
    "            lower+=1\n",
    "            print(str(alpha)+\" :is lower case letter\")\n",
    "    print(\"Total no of uppercase is:\"+str(upper)+\"\\nTotal no of lowercase is:\"+str(lower))    \n",
    "    \n",
    "\n",
    "user_input=input(\"Enter a name\")   \n",
    "letter_fun(user_input)"
   ]
  },
  {
   "cell_type": "markdown",
   "metadata": {},
   "source": [
    "# Q3.Write a Python function to print the even numbers from a given list."
   ]
  },
  {
   "cell_type": "code",
   "execution_count": 3,
   "metadata": {},
   "outputs": [
    {
     "name": "stdout",
     "output_type": "stream",
     "text": [
      "[1, 3, 4, 2, 5, 7, 6, 6]\n",
      "4 is even number\n",
      "2 is even number\n",
      "6 is even number\n",
      "6 is even number\n"
     ]
    }
   ],
   "source": [
    "list=[1,3,4,2,5,7,6,6]\n",
    "print(list)\n",
    "def numbers(value):\n",
    "    for num in value:\n",
    "        if num%2==0:\n",
    "            print(str(num)+\" is even number\")\n",
    "    \n",
    "numbers(list)"
   ]
  },
  {
   "cell_type": "markdown",
   "metadata": {},
   "source": [
    "# Q4.Write a Python function that checks whether a passed string is palindrome or not."
   ]
  },
  {
   "cell_type": "code",
   "execution_count": 4,
   "metadata": {},
   "outputs": [
    {
     "name": "stdout",
     "output_type": "stream",
     "text": [
      "Enter a name:Aizaz\n",
      "Aizaz is not a palindrome\n"
     ]
    }
   ],
   "source": [
    "def palindrome_fun(l):\n",
    "    rev=l[::-1]\n",
    "    if l==rev:\n",
    "        print(str(l)+\" is a palindrome\")\n",
    "    else:\n",
    "        print(str(l)+\" is not a palindrome\")\n",
    "user_input=input(\"Enter a name:\")   \n",
    "palindrome_fun(user_input)"
   ]
  },
  {
   "cell_type": "markdown",
   "metadata": {},
   "source": [
    "# Q5.Write a Python function that takes a number as a parameter and check the number is prime or not."
   ]
  },
  {
   "cell_type": "code",
   "execution_count": 5,
   "metadata": {},
   "outputs": [
    {
     "name": "stdout",
     "output_type": "stream",
     "text": [
      "Enter a number5\n",
      "5 is a prime number\n",
      "5 is a prime number\n",
      "5 is a prime number\n"
     ]
    }
   ],
   "source": [
    "def prime_fun(num):\n",
    "    if num > 1:\n",
    "        for i in range(2,num):\n",
    "            if (num % i) == 0:\n",
    "                print(num,\"is not a prime number\")  \n",
    "                print(i,\"times\",num//i,\"is\",num)  \n",
    "                break  \n",
    "            else:  \n",
    "                print(num,\"is a prime number\")  \n",
    "         \n",
    "    else:\n",
    "        print(num,\"is not a prime number\") \n",
    "    \n",
    "a=int(input(\"Enter a number\"))  \n",
    "prime_fun(a)"
   ]
  },
  {
   "cell_type": "markdown",
   "metadata": {},
   "source": [
    "# Q6.Suppose a customer is shopping in a market and you need to print all the items which user bought from market."
   ]
  },
  {
   "cell_type": "code",
   "execution_count": 6,
   "metadata": {},
   "outputs": [
    {
     "name": "stdout",
     "output_type": "stream",
     "text": [
      "1.egg\n",
      "2.milk\n",
      "3.butter\n",
      "4.bun\n",
      "5.bread\n",
      "6.cake\n",
      "7.biscuits\n",
      "8.Brownies\n",
      "9.yogurt\n",
      "Enter a item: milk\n",
      "['milk']\n",
      "press * to stop user bought list\n",
      "Enter a item: egg\n",
      "['milk', 'egg']\n",
      "press * to stop user bought list\n",
      "Enter a item: *\n",
      "['milk', 'egg', '*']\n",
      "press * to stop user bought list\n"
     ]
    }
   ],
   "source": [
    "def customer_fun(item):\n",
    "    list.append(item)\n",
    "    print(list)\n",
    "\n",
    "list=[]\n",
    "market_item=[\"egg\",\"milk\",\"butter\",\"bun\",\"bread\",\"cake\",\"biscuits\",\"Brownies\",\"yogurt\"]\n",
    "for value in range(9):\n",
    "    print(str(value+1)+\".\"+str(market_item[value]))     \n",
    "i=0\n",
    "while i<5:\n",
    "    user_input=input(\"Enter a item: \") \n",
    "    customer_fun(user_input)\n",
    "    print(\"press * to stop user bought list\")\n",
    "    i+=1\n",
    "    \n",
    "    if user_input=='*':\n",
    "        break"
   ]
  },
  {
   "cell_type": "code",
   "execution_count": null,
   "metadata": {},
   "outputs": [],
   "source": []
  }
 ],
 "metadata": {
  "kernelspec": {
   "display_name": "Python 3",
   "language": "python",
   "name": "python3"
  },
  "language_info": {
   "codemirror_mode": {
    "name": "ipython",
    "version": 3
   },
   "file_extension": ".py",
   "mimetype": "text/x-python",
   "name": "python",
   "nbconvert_exporter": "python",
   "pygments_lexer": "ipython3",
   "version": "3.7.4"
  }
 },
 "nbformat": 4,
 "nbformat_minor": 2
}
